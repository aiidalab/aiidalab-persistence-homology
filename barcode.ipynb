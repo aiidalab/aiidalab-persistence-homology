{
 "cells": [
  {
   "cell_type": "markdown",
   "metadata": {},
   "source": [
    "# Compute Persistence Homology Barcode"
   ]
  },
  {
   "cell_type": "code",
   "execution_count": null,
   "metadata": {
    "scrolled": false
   },
   "outputs": [],
   "source": [
    "# Structure upload\n",
    "from aiida_widgets import StructureUploadWidget\n",
    "from IPython.display import display\n",
    "\n",
    "upload_widget = StructureUploadWidget(node_class='CifData')\n",
    "display(upload_widget)"
   ]
  },
  {
   "cell_type": "code",
   "execution_count": null,
   "metadata": {},
   "outputs": [],
   "source": [
    "# Submission of work chain\n",
    "from aiida_phtools.workflows.dmatrix import DistanceMatrixWorkChain\n",
    "import ipywidgets as ipw\n",
    "\n",
    "\n",
    "#import aiida_phtools.tests as pt\n",
    "#import aiida_zeopp.tests as zt\n",
    "#import aiida_gudhi.tests as gt\n",
    "from IPython.display import display\n",
    "from aiida_widgets import CodeDropdown\n",
    "\n",
    "zeopp_dd = CodeDropdown(input_plugin='zeopp.network')\n",
    "pore_surface_dd = CodeDropdown(input_plugin='phtools.surface')\n",
    "distance_matrix_dd = CodeDropdown(input_plugin='phtools.dmatrix')\n",
    "rips_code_dd = CodeDropdown(input_plugin='gudhi.rdm')\n",
    "\n",
    "def on_click_submit(change):\n",
    "    from aiida.work.run import submit\n",
    "\n",
    "    with submit_output:\n",
    "        outputs = submit(\n",
    "            DistanceMatrixWorkChain,\n",
    "            structure=upload_widget.structure_node,\n",
    "            zeopp_code=zeopp_dd.selected_code,\n",
    "            pore_surface_code=pore_surface_dd.selected_code,\n",
    "            distance_matrix_code=distance_matrix_dd.selected_code,\n",
    "            rips_code=rips_code_dd.selected_code,\n",
    "        )\n",
    "        print(outputs)\n",
    "        #submit_output.value = \"Submitted \n",
    "    \n",
    "btn_submit = ipw.Button(description='Compute barcode')\n",
    "btn_submit.on_click(on_click_submit)\n",
    "submit_output = ipw.Output()\n",
    "\n",
    "display(zeopp_dd, pore_surface_dd, distance_matrix_dd, rips_code_dd, btn_submit, submit_output)"
   ]
  }
 ],
 "metadata": {
  "kernelspec": {
   "display_name": "Python 2",
   "language": "python",
   "name": "python2"
  },
  "language_info": {
   "codemirror_mode": {
    "name": "ipython",
    "version": 2
   },
   "file_extension": ".py",
   "mimetype": "text/x-python",
   "name": "python",
   "nbconvert_exporter": "python",
   "pygments_lexer": "ipython2",
   "version": "2.7.15"
  }
 },
 "nbformat": 4,
 "nbformat_minor": 2
}
