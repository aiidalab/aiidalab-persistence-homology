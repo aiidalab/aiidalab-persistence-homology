{
 "cells": [
  {
   "cell_type": "markdown",
   "metadata": {},
   "source": [
    "# Compute Persistence Homology Barcode"
   ]
  },
  {
   "cell_type": "markdown",
   "metadata": {},
   "source": [
    "## Step 1: Upload Structure"
   ]
  },
  {
   "cell_type": "code",
   "execution_count": 1,
   "metadata": {
    "scrolled": false
   },
   "outputs": [
    {
     "data": {
      "application/vnd.jupyter.widget-view+json": {
       "model_id": "e44fd97d3e43466daaa18e4e24b94ed0",
       "version_major": 2,
       "version_minor": 0
      },
      "text/html": [
       "<p>Failed to display Jupyter Widget of type <code>StructureUploadWidget</code>.</p>\n",
       "<p>\n",
       "  If you're reading this message in the Jupyter Notebook or JupyterLab Notebook, it may mean\n",
       "  that the widgets JavaScript is still loading. If this message persists, it\n",
       "  likely means that the widgets JavaScript library is either not installed or\n",
       "  not enabled. See the <a href=\"https://ipywidgets.readthedocs.io/en/stable/user_install.html\">Jupyter\n",
       "  Widgets Documentation</a> for setup instructions.\n",
       "</p>\n",
       "<p>\n",
       "  If you're reading this message in another frontend (for example, a static\n",
       "  rendering on GitHub or <a href=\"https://nbviewer.jupyter.org/\">NBViewer</a>),\n",
       "  it may mean that your frontend doesn't currently support widgets.\n",
       "</p>\n"
      ],
      "text/plain": [
       "StructureUploadWidget(children=(FileUploadWidget(label=u'Upload Structure', _dom_classes=('widget_item', 'btn-group')), Output(), NGLWidget(), HBox(children=(Button(description=u'Store in AiiDA', style=ButtonStyle()), Text(value=u'', placeholder=u'Label (optional)')))))"
      ]
     },
     "metadata": {},
     "output_type": "display_data"
    }
   ],
   "source": [
    "from aiida_widgets import StructureUploadWidget\n",
    "import ipywidgets as ipw\n",
    "from IPython.display import display\n",
    "\n",
    "\n",
    "upload_widget = StructureUploadWidget(node_class='CifData')\n",
    "display(upload_widget)"
   ]
  },
  {
   "cell_type": "markdown",
   "metadata": {},
   "source": [
    "## Step 2: Submit Calculation"
   ]
  },
  {
   "cell_type": "code",
   "execution_count": 2,
   "metadata": {},
   "outputs": [
    {
     "data": {
      "application/vnd.jupyter.widget-view+json": {
       "model_id": "bc664e3c3b7b446287d6792f223e145e",
       "version_major": 2,
       "version_minor": 0
      },
      "text/html": [
       "<p>Failed to display Jupyter Widget of type <code>CodeDropdown</code>.</p>\n",
       "<p>\n",
       "  If you're reading this message in the Jupyter Notebook or JupyterLab Notebook, it may mean\n",
       "  that the widgets JavaScript is still loading. If this message persists, it\n",
       "  likely means that the widgets JavaScript library is either not installed or\n",
       "  not enabled. See the <a href=\"https://ipywidgets.readthedocs.io/en/stable/user_install.html\">Jupyter\n",
       "  Widgets Documentation</a> for setup instructions.\n",
       "</p>\n",
       "<p>\n",
       "  If you're reading this message in another frontend (for example, a static\n",
       "  rendering on GitHub or <a href=\"https://nbviewer.jupyter.org/\">NBViewer</a>),\n",
       "  it may mean that your frontend doesn't currently support widgets.\n",
       "</p>\n"
      ],
      "text/plain": [
       "CodeDropdown(children=(HBox(children=(Label(value=u'Select code:'), Dropdown(options=('network@localhost', 'zeopp@localhost', 'zeopp-0.3@quantum-mobile'), value='network@localhost'), Output())),))"
      ]
     },
     "metadata": {},
     "output_type": "display_data"
    },
    {
     "data": {
      "application/vnd.jupyter.widget-view+json": {
       "model_id": "899db9cff4824b63acef0f0fe4843aa3",
       "version_major": 2,
       "version_minor": 0
      },
      "text/html": [
       "<p>Failed to display Jupyter Widget of type <code>CodeDropdown</code>.</p>\n",
       "<p>\n",
       "  If you're reading this message in the Jupyter Notebook or JupyterLab Notebook, it may mean\n",
       "  that the widgets JavaScript is still loading. If this message persists, it\n",
       "  likely means that the widgets JavaScript library is either not installed or\n",
       "  not enabled. See the <a href=\"https://ipywidgets.readthedocs.io/en/stable/user_install.html\">Jupyter\n",
       "  Widgets Documentation</a> for setup instructions.\n",
       "</p>\n",
       "<p>\n",
       "  If you're reading this message in another frontend (for example, a static\n",
       "  rendering on GitHub or <a href=\"https://nbviewer.jupyter.org/\">NBViewer</a>),\n",
       "  it may mean that your frontend doesn't currently support widgets.\n",
       "</p>\n"
      ],
      "text/plain": [
       "CodeDropdown(children=(HBox(children=(Label(value=u'Select code:'), Dropdown(options=('pore_surface@localhost', 'pore_surface_executable@localhost'), value='pore_surface@localhost'), Output())),))"
      ]
     },
     "metadata": {},
     "output_type": "display_data"
    },
    {
     "data": {
      "application/vnd.jupyter.widget-view+json": {
       "model_id": "bce66192100f49cd8fddd32c51d01f02",
       "version_major": 2,
       "version_minor": 0
      },
      "text/html": [
       "<p>Failed to display Jupyter Widget of type <code>CodeDropdown</code>.</p>\n",
       "<p>\n",
       "  If you're reading this message in the Jupyter Notebook or JupyterLab Notebook, it may mean\n",
       "  that the widgets JavaScript is still loading. If this message persists, it\n",
       "  likely means that the widgets JavaScript library is either not installed or\n",
       "  not enabled. See the <a href=\"https://ipywidgets.readthedocs.io/en/stable/user_install.html\">Jupyter\n",
       "  Widgets Documentation</a> for setup instructions.\n",
       "</p>\n",
       "<p>\n",
       "  If you're reading this message in another frontend (for example, a static\n",
       "  rendering on GitHub or <a href=\"https://nbviewer.jupyter.org/\">NBViewer</a>),\n",
       "  it may mean that your frontend doesn't currently support widgets.\n",
       "</p>\n"
      ],
      "text/plain": [
       "CodeDropdown(children=(HBox(children=(Label(value=u'Select code:'), Dropdown(options=('distance_matrix@localhost', 'distance_matrix_executable@localhost'), value='distance_matrix@localhost'), Output())),))"
      ]
     },
     "metadata": {},
     "output_type": "display_data"
    },
    {
     "data": {
      "application/vnd.jupyter.widget-view+json": {
       "model_id": "fdabbe87146f4d109be6ab592ac7fe3e",
       "version_major": 2,
       "version_minor": 0
      },
      "text/html": [
       "<p>Failed to display Jupyter Widget of type <code>CodeDropdown</code>.</p>\n",
       "<p>\n",
       "  If you're reading this message in the Jupyter Notebook or JupyterLab Notebook, it may mean\n",
       "  that the widgets JavaScript is still loading. If this message persists, it\n",
       "  likely means that the widgets JavaScript library is either not installed or\n",
       "  not enabled. See the <a href=\"https://ipywidgets.readthedocs.io/en/stable/user_install.html\">Jupyter\n",
       "  Widgets Documentation</a> for setup instructions.\n",
       "</p>\n",
       "<p>\n",
       "  If you're reading this message in another frontend (for example, a static\n",
       "  rendering on GitHub or <a href=\"https://nbviewer.jupyter.org/\">NBViewer</a>),\n",
       "  it may mean that your frontend doesn't currently support widgets.\n",
       "</p>\n"
      ],
      "text/plain": [
       "CodeDropdown(children=(HBox(children=(Label(value=u'Select code:'), Dropdown(options=('rips_distance_matrix_persistence@localhost',), value='rips_distance_matrix_persistence@localhost'), Output())),))"
      ]
     },
     "metadata": {},
     "output_type": "display_data"
    },
    {
     "data": {
      "application/vnd.jupyter.widget-view+json": {
       "model_id": "ff716fec92784328854b6d97c35fc19d",
       "version_major": 2,
       "version_minor": 0
      },
      "text/html": [
       "<p>Failed to display Jupyter Widget of type <code>Button</code>.</p>\n",
       "<p>\n",
       "  If you're reading this message in the Jupyter Notebook or JupyterLab Notebook, it may mean\n",
       "  that the widgets JavaScript is still loading. If this message persists, it\n",
       "  likely means that the widgets JavaScript library is either not installed or\n",
       "  not enabled. See the <a href=\"https://ipywidgets.readthedocs.io/en/stable/user_install.html\">Jupyter\n",
       "  Widgets Documentation</a> for setup instructions.\n",
       "</p>\n",
       "<p>\n",
       "  If you're reading this message in another frontend (for example, a static\n",
       "  rendering on GitHub or <a href=\"https://nbviewer.jupyter.org/\">NBViewer</a>),\n",
       "  it may mean that your frontend doesn't currently support widgets.\n",
       "</p>\n"
      ],
      "text/plain": [
       "Button(description=u'Compute barcodes', style=ButtonStyle())"
      ]
     },
     "metadata": {},
     "output_type": "display_data"
    },
    {
     "data": {
      "application/vnd.jupyter.widget-view+json": {
       "model_id": "58a3e6e6911f45a0a91e7d7fbb642c7f",
       "version_major": 2,
       "version_minor": 0
      },
      "text/html": [
       "<p>Failed to display Jupyter Widget of type <code>Output</code>.</p>\n",
       "<p>\n",
       "  If you're reading this message in the Jupyter Notebook or JupyterLab Notebook, it may mean\n",
       "  that the widgets JavaScript is still loading. If this message persists, it\n",
       "  likely means that the widgets JavaScript library is either not installed or\n",
       "  not enabled. See the <a href=\"https://ipywidgets.readthedocs.io/en/stable/user_install.html\">Jupyter\n",
       "  Widgets Documentation</a> for setup instructions.\n",
       "</p>\n",
       "<p>\n",
       "  If you're reading this message in another frontend (for example, a static\n",
       "  rendering on GitHub or <a href=\"https://nbviewer.jupyter.org/\">NBViewer</a>),\n",
       "  it may mean that your frontend doesn't currently support widgets.\n",
       "</p>\n"
      ],
      "text/plain": [
       "Output()"
      ]
     },
     "metadata": {},
     "output_type": "display_data"
    }
   ],
   "source": [
    "from aiida_phtools.workflows.dmatrix import DistanceMatrixWorkChain\n",
    "\n",
    "\n",
    "\n",
    "#import aiida_phtools.tests as pt\n",
    "#import aiida_zeopp.tests as zt\n",
    "#import aiida_gudhi.tests as gt\n",
    "from IPython.display import display\n",
    "from aiida_widgets import CodeDropdown\n",
    "\n",
    "zeopp_dd = CodeDropdown(input_plugin='zeopp.network')\n",
    "pore_surface_dd = CodeDropdown(input_plugin='phtools.surface')\n",
    "distance_matrix_dd = CodeDropdown(input_plugin='phtools.dmatrix')\n",
    "rips_code_dd = CodeDropdown(input_plugin='gudhi.rdm')\n",
    "\n",
    "outputs=None\n",
    "def on_click_submit(change):\n",
    "    global outputs\n",
    "    from aiida.work.run import run, submit\n",
    "\n",
    "    with submit_output:\n",
    "        print(\"Running Workchain for structure {}\".format(str(upload_widget.structure_node)))\n",
    "        print(\"Please stand by ... (this can take a few minutes)\")\n",
    "        outputs = run(\n",
    "            DistanceMatrixWorkChain,\n",
    "            structure=upload_widget.structure_node,\n",
    "            zeopp_code=zeopp_dd.selected_code,\n",
    "            pore_surface_code=pore_surface_dd.selected_code,\n",
    "            distance_matrix_code=distance_matrix_dd.selected_code,\n",
    "            rips_code=rips_code_dd.selected_code,\n",
    "        )\n",
    "        print(\"Workchain completed!\")\n",
    "    \n",
    "btn_submit = ipw.Button(description='Compute barcodes')\n",
    "btn_submit.on_click(on_click_submit)\n",
    "submit_output = ipw.Output()\n",
    "#text_calc_name = ipw.Text(description='Calculation label: ', placeholder='A great name.',\n",
    "#                          style=style, layout=layout)\n",
    "\n",
    "\n",
    "display(zeopp_dd, pore_surface_dd, distance_matrix_dd, rips_code_dd, btn_submit, submit_output)"
   ]
  },
  {
   "cell_type": "markdown",
   "metadata": {},
   "source": [
    "## Step 3: Show Barcodes"
   ]
  },
  {
   "cell_type": "code",
   "execution_count": null,
   "metadata": {},
   "outputs": [],
   "source": [
    "%matplotlib inline\n",
    "\n",
    "#from aiida.orm import load_node\n",
    "#outputs = { 'barcode': load_node(4713)}\n",
    "\n",
    "btn_plot = ipw.Button(description='Show barcodes')\n",
    "\n",
    "def on_click_plot(change):\n",
    "    with plot_output:\n",
    "        \n",
    "        if outputs is None:\n",
    "            print(\"No barcode found. Has the calculation finished?\")\n",
    "            return\n",
    "        \n",
    "\n",
    "        from aiida_gudhi.parsers.barcode import BarcodeParser\n",
    "        parser = BarcodeParser(filename=outputs['barcode'].get_file_abs_path(),max_life=4.2)\n",
    "    \n",
    "        for d in [0,1,2]:\n",
    "            parser.plot(d)\n",
    "        \n",
    "btn_plot.on_click(on_click_plot)\n",
    "plot_output = ipw.Output()\n",
    "display(btn_plot, plot_output)"
   ]
  }
 ],
 "metadata": {
  "kernelspec": {
   "display_name": "Python 2",
   "language": "python",
   "name": "python2"
  },
  "language_info": {
   "codemirror_mode": {
    "name": "ipython",
    "version": 2
   },
   "file_extension": ".py",
   "mimetype": "text/x-python",
   "name": "python",
   "nbconvert_exporter": "python",
   "pygments_lexer": "ipython2",
   "version": "2.7.15"
  }
 },
 "nbformat": 4,
 "nbformat_minor": 2
}
